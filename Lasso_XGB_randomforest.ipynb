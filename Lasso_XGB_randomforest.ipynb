{
 "cells": [
  {
   "cell_type": "code",
   "execution_count": 1,
   "id": "ee14d733",
   "metadata": {},
   "outputs": [],
   "source": [
    "import numpy as np\n",
    "import matplotlib.pyplot as plt\n",
    "import pandas as pd\n",
    "from sklearn.preprocessing import StandardScaler\n",
    "from sklearn.linear_model import LinearRegression\n",
    "from sklearn.model_selection import train_test_split"
   ]
  },
  {
   "cell_type": "code",
   "execution_count": 2,
   "id": "9954e22c",
   "metadata": {},
   "outputs": [],
   "source": [
    "df_dropped_2=pd.read_csv(\"C:\\\\Users\\\\Administrator\\\\Desktop\\\\Khoaluan\\\\web\\\\united4.csv\")\n",
    "               "
   ]
  },
  {
   "cell_type": "code",
   "execution_count": 3,
   "id": "b58dbaa2",
   "metadata": {},
   "outputs": [
    {
     "data": {
      "text/html": [
       "<div>\n",
       "<style scoped>\n",
       "    .dataframe tbody tr th:only-of-type {\n",
       "        vertical-align: middle;\n",
       "    }\n",
       "\n",
       "    .dataframe tbody tr th {\n",
       "        vertical-align: top;\n",
       "    }\n",
       "\n",
       "    .dataframe thead th {\n",
       "        text-align: right;\n",
       "    }\n",
       "</style>\n",
       "<table border=\"1\" class=\"dataframe\">\n",
       "  <thead>\n",
       "    <tr style=\"text-align: right;\">\n",
       "      <th></th>\n",
       "      <th>DiaChi</th>\n",
       "      <th>Quan</th>\n",
       "      <th>TinhTrangBDS</th>\n",
       "      <th>DienTich</th>\n",
       "      <th>Phongngu</th>\n",
       "      <th>PhongTam</th>\n",
       "      <th>Loai</th>\n",
       "      <th>GiayTo</th>\n",
       "      <th>TinhTrangNoiThat</th>\n",
       "      <th>Gia</th>\n",
       "      <th>USD</th>\n",
       "      <th>log_price</th>\n",
       "    </tr>\n",
       "  </thead>\n",
       "  <tbody>\n",
       "    <tr>\n",
       "      <th>0</th>\n",
       "      <td>Đường Liên Phường, Phường Phú Hữu, Quận 9, Tp ...</td>\n",
       "      <td>9</td>\n",
       "      <td>1</td>\n",
       "      <td>50.00</td>\n",
       "      <td>2.0</td>\n",
       "      <td>1.0</td>\n",
       "      <td>1</td>\n",
       "      <td>1</td>\n",
       "      <td>1</td>\n",
       "      <td>1.500000e+09</td>\n",
       "      <td>62500.0</td>\n",
       "      <td>11.042922</td>\n",
       "    </tr>\n",
       "    <tr>\n",
       "      <th>1</th>\n",
       "      <td>Lô 5, Lô 5 Khu đô thị Vĩnh Lộc, Phường Bình Hư...</td>\n",
       "      <td>13</td>\n",
       "      <td>1</td>\n",
       "      <td>63.00</td>\n",
       "      <td>2.0</td>\n",
       "      <td>2.0</td>\n",
       "      <td>1</td>\n",
       "      <td>2</td>\n",
       "      <td>1</td>\n",
       "      <td>1.650000e+09</td>\n",
       "      <td>68750.0</td>\n",
       "      <td>11.138232</td>\n",
       "    </tr>\n",
       "    <tr>\n",
       "      <th>2</th>\n",
       "      <td>Số 8, Số 8 Đường Gò Dưa, Phường Hiệp Bình Phướ...</td>\n",
       "      <td>14</td>\n",
       "      <td>1</td>\n",
       "      <td>57.72</td>\n",
       "      <td>2.0</td>\n",
       "      <td>2.0</td>\n",
       "      <td>1</td>\n",
       "      <td>1</td>\n",
       "      <td>1</td>\n",
       "      <td>1.750000e+09</td>\n",
       "      <td>72917.0</td>\n",
       "      <td>11.197077</td>\n",
       "    </tr>\n",
       "    <tr>\n",
       "      <th>3</th>\n",
       "      <td>Đường Phan Văn Hớn, Phường Tân Thới Nhất, Quận...</td>\n",
       "      <td>12</td>\n",
       "      <td>1</td>\n",
       "      <td>65.00</td>\n",
       "      <td>2.0</td>\n",
       "      <td>2.0</td>\n",
       "      <td>1</td>\n",
       "      <td>2</td>\n",
       "      <td>2</td>\n",
       "      <td>1.760000e+09</td>\n",
       "      <td>73333.0</td>\n",
       "      <td>11.202766</td>\n",
       "    </tr>\n",
       "    <tr>\n",
       "      <th>4</th>\n",
       "      <td>Đường Nguyễn Xiển, Phường Long Thạnh Mỹ, Quận ...</td>\n",
       "      <td>9</td>\n",
       "      <td>1</td>\n",
       "      <td>69.00</td>\n",
       "      <td>2.0</td>\n",
       "      <td>2.0</td>\n",
       "      <td>1</td>\n",
       "      <td>2</td>\n",
       "      <td>3</td>\n",
       "      <td>1.120000e+09</td>\n",
       "      <td>46667.0</td>\n",
       "      <td>10.750793</td>\n",
       "    </tr>\n",
       "    <tr>\n",
       "      <th>...</th>\n",
       "      <td>...</td>\n",
       "      <td>...</td>\n",
       "      <td>...</td>\n",
       "      <td>...</td>\n",
       "      <td>...</td>\n",
       "      <td>...</td>\n",
       "      <td>...</td>\n",
       "      <td>...</td>\n",
       "      <td>...</td>\n",
       "      <td>...</td>\n",
       "      <td>...</td>\n",
       "      <td>...</td>\n",
       "    </tr>\n",
       "    <tr>\n",
       "      <th>12898</th>\n",
       "      <td>Đường Tạ Quang Bửu, Phường 6, Quận 8, Tp Hồ Ch...</td>\n",
       "      <td>8</td>\n",
       "      <td>1</td>\n",
       "      <td>68.00</td>\n",
       "      <td>2.0</td>\n",
       "      <td>2.0</td>\n",
       "      <td>1</td>\n",
       "      <td>2</td>\n",
       "      <td>3</td>\n",
       "      <td>2.450000e+09</td>\n",
       "      <td>102083.0</td>\n",
       "      <td>11.533541</td>\n",
       "    </tr>\n",
       "    <tr>\n",
       "      <th>12899</th>\n",
       "      <td>Đường Xa lộ Hà Nội, Phường Hiệp Phú, Quận 9, T...</td>\n",
       "      <td>9</td>\n",
       "      <td>1</td>\n",
       "      <td>53.00</td>\n",
       "      <td>2.0</td>\n",
       "      <td>1.0</td>\n",
       "      <td>1</td>\n",
       "      <td>2</td>\n",
       "      <td>1</td>\n",
       "      <td>2.100000e+09</td>\n",
       "      <td>87500.0</td>\n",
       "      <td>11.379394</td>\n",
       "    </tr>\n",
       "    <tr>\n",
       "      <th>12900</th>\n",
       "      <td>Lô 11B KĐT Nam Thành Phố, Lô 11B KĐT Nam Thành...</td>\n",
       "      <td>16</td>\n",
       "      <td>1</td>\n",
       "      <td>76.00</td>\n",
       "      <td>2.0</td>\n",
       "      <td>1.0</td>\n",
       "      <td>1</td>\n",
       "      <td>1</td>\n",
       "      <td>3</td>\n",
       "      <td>1.550000e+09</td>\n",
       "      <td>64583.0</td>\n",
       "      <td>11.075706</td>\n",
       "    </tr>\n",
       "    <tr>\n",
       "      <th>12901</th>\n",
       "      <td>Đường Phạm Văn Đồng, Phường 13, Quận Bình Thạn...</td>\n",
       "      <td>15</td>\n",
       "      <td>1</td>\n",
       "      <td>82.00</td>\n",
       "      <td>2.0</td>\n",
       "      <td>2.0</td>\n",
       "      <td>1</td>\n",
       "      <td>1</td>\n",
       "      <td>2</td>\n",
       "      <td>2.650000e+09</td>\n",
       "      <td>110417.0</td>\n",
       "      <td>11.612019</td>\n",
       "    </tr>\n",
       "    <tr>\n",
       "      <th>12902</th>\n",
       "      <td>765 đường Hồng Bàng, Phường 6, Quận 6, Hồ Chí ...</td>\n",
       "      <td>6</td>\n",
       "      <td>2</td>\n",
       "      <td>60.00</td>\n",
       "      <td>2.0</td>\n",
       "      <td>1.0</td>\n",
       "      <td>1</td>\n",
       "      <td>2</td>\n",
       "      <td>3</td>\n",
       "      <td>1.900000e+09</td>\n",
       "      <td>79167.0</td>\n",
       "      <td>11.279315</td>\n",
       "    </tr>\n",
       "  </tbody>\n",
       "</table>\n",
       "<p>12903 rows × 12 columns</p>\n",
       "</div>"
      ],
      "text/plain": [
       "                                                  DiaChi  Quan  TinhTrangBDS  \\\n",
       "0      Đường Liên Phường, Phường Phú Hữu, Quận 9, Tp ...     9             1   \n",
       "1      Lô 5, Lô 5 Khu đô thị Vĩnh Lộc, Phường Bình Hư...    13             1   \n",
       "2      Số 8, Số 8 Đường Gò Dưa, Phường Hiệp Bình Phướ...    14             1   \n",
       "3      Đường Phan Văn Hớn, Phường Tân Thới Nhất, Quận...    12             1   \n",
       "4      Đường Nguyễn Xiển, Phường Long Thạnh Mỹ, Quận ...     9             1   \n",
       "...                                                  ...   ...           ...   \n",
       "12898  Đường Tạ Quang Bửu, Phường 6, Quận 8, Tp Hồ Ch...     8             1   \n",
       "12899  Đường Xa lộ Hà Nội, Phường Hiệp Phú, Quận 9, T...     9             1   \n",
       "12900  Lô 11B KĐT Nam Thành Phố, Lô 11B KĐT Nam Thành...    16             1   \n",
       "12901  Đường Phạm Văn Đồng, Phường 13, Quận Bình Thạn...    15             1   \n",
       "12902  765 đường Hồng Bàng, Phường 6, Quận 6, Hồ Chí ...     6             2   \n",
       "\n",
       "       DienTich  Phongngu  PhongTam  Loai  GiayTo  TinhTrangNoiThat  \\\n",
       "0         50.00       2.0       1.0     1       1                 1   \n",
       "1         63.00       2.0       2.0     1       2                 1   \n",
       "2         57.72       2.0       2.0     1       1                 1   \n",
       "3         65.00       2.0       2.0     1       2                 2   \n",
       "4         69.00       2.0       2.0     1       2                 3   \n",
       "...         ...       ...       ...   ...     ...               ...   \n",
       "12898     68.00       2.0       2.0     1       2                 3   \n",
       "12899     53.00       2.0       1.0     1       2                 1   \n",
       "12900     76.00       2.0       1.0     1       1                 3   \n",
       "12901     82.00       2.0       2.0     1       1                 2   \n",
       "12902     60.00       2.0       1.0     1       2                 3   \n",
       "\n",
       "                Gia       USD  log_price  \n",
       "0      1.500000e+09   62500.0  11.042922  \n",
       "1      1.650000e+09   68750.0  11.138232  \n",
       "2      1.750000e+09   72917.0  11.197077  \n",
       "3      1.760000e+09   73333.0  11.202766  \n",
       "4      1.120000e+09   46667.0  10.750793  \n",
       "...             ...       ...        ...  \n",
       "12898  2.450000e+09  102083.0  11.533541  \n",
       "12899  2.100000e+09   87500.0  11.379394  \n",
       "12900  1.550000e+09   64583.0  11.075706  \n",
       "12901  2.650000e+09  110417.0  11.612019  \n",
       "12902  1.900000e+09   79167.0  11.279315  \n",
       "\n",
       "[12903 rows x 12 columns]"
      ]
     },
     "execution_count": 3,
     "metadata": {},
     "output_type": "execute_result"
    }
   ],
   "source": [
    "df_dropped_2"
   ]
  },
  {
   "cell_type": "code",
   "execution_count": 4,
   "id": "8dc0b3bc",
   "metadata": {},
   "outputs": [
    {
     "data": {
      "text/html": [
       "<div>\n",
       "<style scoped>\n",
       "    .dataframe tbody tr th:only-of-type {\n",
       "        vertical-align: middle;\n",
       "    }\n",
       "\n",
       "    .dataframe tbody tr th {\n",
       "        vertical-align: top;\n",
       "    }\n",
       "\n",
       "    .dataframe thead th {\n",
       "        text-align: right;\n",
       "    }\n",
       "</style>\n",
       "<table border=\"1\" class=\"dataframe\">\n",
       "  <thead>\n",
       "    <tr style=\"text-align: right;\">\n",
       "      <th></th>\n",
       "      <th>Quan</th>\n",
       "      <th>TinhTrangBDS</th>\n",
       "      <th>DienTich</th>\n",
       "      <th>Phongngu</th>\n",
       "      <th>PhongTam</th>\n",
       "      <th>Loai</th>\n",
       "      <th>GiayTo</th>\n",
       "      <th>TinhTrangNoiThat</th>\n",
       "    </tr>\n",
       "  </thead>\n",
       "  <tbody>\n",
       "    <tr>\n",
       "      <th>0</th>\n",
       "      <td>9</td>\n",
       "      <td>1</td>\n",
       "      <td>50.00</td>\n",
       "      <td>2.0</td>\n",
       "      <td>1.0</td>\n",
       "      <td>1</td>\n",
       "      <td>1</td>\n",
       "      <td>1</td>\n",
       "    </tr>\n",
       "    <tr>\n",
       "      <th>1</th>\n",
       "      <td>13</td>\n",
       "      <td>1</td>\n",
       "      <td>63.00</td>\n",
       "      <td>2.0</td>\n",
       "      <td>2.0</td>\n",
       "      <td>1</td>\n",
       "      <td>2</td>\n",
       "      <td>1</td>\n",
       "    </tr>\n",
       "    <tr>\n",
       "      <th>2</th>\n",
       "      <td>14</td>\n",
       "      <td>1</td>\n",
       "      <td>57.72</td>\n",
       "      <td>2.0</td>\n",
       "      <td>2.0</td>\n",
       "      <td>1</td>\n",
       "      <td>1</td>\n",
       "      <td>1</td>\n",
       "    </tr>\n",
       "    <tr>\n",
       "      <th>3</th>\n",
       "      <td>12</td>\n",
       "      <td>1</td>\n",
       "      <td>65.00</td>\n",
       "      <td>2.0</td>\n",
       "      <td>2.0</td>\n",
       "      <td>1</td>\n",
       "      <td>2</td>\n",
       "      <td>2</td>\n",
       "    </tr>\n",
       "    <tr>\n",
       "      <th>4</th>\n",
       "      <td>9</td>\n",
       "      <td>1</td>\n",
       "      <td>69.00</td>\n",
       "      <td>2.0</td>\n",
       "      <td>2.0</td>\n",
       "      <td>1</td>\n",
       "      <td>2</td>\n",
       "      <td>3</td>\n",
       "    </tr>\n",
       "    <tr>\n",
       "      <th>...</th>\n",
       "      <td>...</td>\n",
       "      <td>...</td>\n",
       "      <td>...</td>\n",
       "      <td>...</td>\n",
       "      <td>...</td>\n",
       "      <td>...</td>\n",
       "      <td>...</td>\n",
       "      <td>...</td>\n",
       "    </tr>\n",
       "    <tr>\n",
       "      <th>12898</th>\n",
       "      <td>8</td>\n",
       "      <td>1</td>\n",
       "      <td>68.00</td>\n",
       "      <td>2.0</td>\n",
       "      <td>2.0</td>\n",
       "      <td>1</td>\n",
       "      <td>2</td>\n",
       "      <td>3</td>\n",
       "    </tr>\n",
       "    <tr>\n",
       "      <th>12899</th>\n",
       "      <td>9</td>\n",
       "      <td>1</td>\n",
       "      <td>53.00</td>\n",
       "      <td>2.0</td>\n",
       "      <td>1.0</td>\n",
       "      <td>1</td>\n",
       "      <td>2</td>\n",
       "      <td>1</td>\n",
       "    </tr>\n",
       "    <tr>\n",
       "      <th>12900</th>\n",
       "      <td>16</td>\n",
       "      <td>1</td>\n",
       "      <td>76.00</td>\n",
       "      <td>2.0</td>\n",
       "      <td>1.0</td>\n",
       "      <td>1</td>\n",
       "      <td>1</td>\n",
       "      <td>3</td>\n",
       "    </tr>\n",
       "    <tr>\n",
       "      <th>12901</th>\n",
       "      <td>15</td>\n",
       "      <td>1</td>\n",
       "      <td>82.00</td>\n",
       "      <td>2.0</td>\n",
       "      <td>2.0</td>\n",
       "      <td>1</td>\n",
       "      <td>1</td>\n",
       "      <td>2</td>\n",
       "    </tr>\n",
       "    <tr>\n",
       "      <th>12902</th>\n",
       "      <td>6</td>\n",
       "      <td>2</td>\n",
       "      <td>60.00</td>\n",
       "      <td>2.0</td>\n",
       "      <td>1.0</td>\n",
       "      <td>1</td>\n",
       "      <td>2</td>\n",
       "      <td>3</td>\n",
       "    </tr>\n",
       "  </tbody>\n",
       "</table>\n",
       "<p>12903 rows × 8 columns</p>\n",
       "</div>"
      ],
      "text/plain": [
       "       Quan  TinhTrangBDS  DienTich  Phongngu  PhongTam  Loai  GiayTo  \\\n",
       "0         9             1     50.00       2.0       1.0     1       1   \n",
       "1        13             1     63.00       2.0       2.0     1       2   \n",
       "2        14             1     57.72       2.0       2.0     1       1   \n",
       "3        12             1     65.00       2.0       2.0     1       2   \n",
       "4         9             1     69.00       2.0       2.0     1       2   \n",
       "...     ...           ...       ...       ...       ...   ...     ...   \n",
       "12898     8             1     68.00       2.0       2.0     1       2   \n",
       "12899     9             1     53.00       2.0       1.0     1       2   \n",
       "12900    16             1     76.00       2.0       1.0     1       1   \n",
       "12901    15             1     82.00       2.0       2.0     1       1   \n",
       "12902     6             2     60.00       2.0       1.0     1       2   \n",
       "\n",
       "       TinhTrangNoiThat  \n",
       "0                     1  \n",
       "1                     1  \n",
       "2                     1  \n",
       "3                     2  \n",
       "4                     3  \n",
       "...                 ...  \n",
       "12898                 3  \n",
       "12899                 1  \n",
       "12900                 3  \n",
       "12901                 2  \n",
       "12902                 3  \n",
       "\n",
       "[12903 rows x 8 columns]"
      ]
     },
     "execution_count": 4,
     "metadata": {},
     "output_type": "execute_result"
    }
   ],
   "source": [
    "df_x = df_dropped_2.iloc[:, 1:9]\n",
    "df_x"
   ]
  },
  {
   "cell_type": "code",
   "execution_count": 5,
   "id": "911a063c",
   "metadata": {},
   "outputs": [
    {
     "data": {
      "text/plain": [
       "0         62500.0\n",
       "1         68750.0\n",
       "2         72917.0\n",
       "3         73333.0\n",
       "4         46667.0\n",
       "           ...   \n",
       "12898    102083.0\n",
       "12899     87500.0\n",
       "12900     64583.0\n",
       "12901    110417.0\n",
       "12902     79167.0\n",
       "Name: USD, Length: 12903, dtype: float64"
      ]
     },
     "execution_count": 5,
     "metadata": {},
     "output_type": "execute_result"
    }
   ],
   "source": [
    "df_y = df_dropped_2.iloc[:, 10]\n",
    "\n",
    "df_y"
   ]
  },
  {
   "cell_type": "code",
   "execution_count": 6,
   "id": "2f09e811",
   "metadata": {},
   "outputs": [],
   "source": [
    "from sklearn.model_selection import train_test_split"
   ]
  },
  {
   "cell_type": "code",
   "execution_count": 7,
   "id": "2280ff23",
   "metadata": {},
   "outputs": [],
   "source": [
    "X, X_test, Y, Y_test = train_test_split(df_x,df_y, test_size = 0.2, random_state = 0)"
   ]
  },
  {
   "cell_type": "code",
   "execution_count": 31,
   "id": "18293141",
   "metadata": {},
   "outputs": [],
   "source": [
    "from xgboost import XGBRegressor\n",
    "reg  = XGBRegressor().fit(X, Y)"
   ]
  },
  {
   "cell_type": "code",
   "execution_count": 47,
   "id": "6d7351eb",
   "metadata": {},
   "outputs": [
    {
     "data": {
      "text/html": [
       "<div>\n",
       "<style scoped>\n",
       "    .dataframe tbody tr th:only-of-type {\n",
       "        vertical-align: middle;\n",
       "    }\n",
       "\n",
       "    .dataframe tbody tr th {\n",
       "        vertical-align: top;\n",
       "    }\n",
       "\n",
       "    .dataframe thead th {\n",
       "        text-align: right;\n",
       "    }\n",
       "</style>\n",
       "<table border=\"1\" class=\"dataframe\">\n",
       "  <thead>\n",
       "    <tr style=\"text-align: right;\">\n",
       "      <th></th>\n",
       "      <th>Quan</th>\n",
       "      <th>TinhTrangBDS</th>\n",
       "      <th>DienTich</th>\n",
       "      <th>Phongngu</th>\n",
       "      <th>PhongTam</th>\n",
       "      <th>Loai</th>\n",
       "      <th>GiayTo</th>\n",
       "      <th>TinhTrangNoiThat</th>\n",
       "    </tr>\n",
       "  </thead>\n",
       "  <tbody>\n",
       "    <tr>\n",
       "      <th>11623</th>\n",
       "      <td>16</td>\n",
       "      <td>1</td>\n",
       "      <td>63.0</td>\n",
       "      <td>2.0</td>\n",
       "      <td>2.0</td>\n",
       "      <td>1</td>\n",
       "      <td>2</td>\n",
       "      <td>4</td>\n",
       "    </tr>\n",
       "    <tr>\n",
       "      <th>11600</th>\n",
       "      <td>12</td>\n",
       "      <td>2</td>\n",
       "      <td>60.0</td>\n",
       "      <td>2.0</td>\n",
       "      <td>1.0</td>\n",
       "      <td>1</td>\n",
       "      <td>1</td>\n",
       "      <td>2</td>\n",
       "    </tr>\n",
       "    <tr>\n",
       "      <th>5242</th>\n",
       "      <td>16</td>\n",
       "      <td>2</td>\n",
       "      <td>56.0</td>\n",
       "      <td>2.0</td>\n",
       "      <td>2.0</td>\n",
       "      <td>1</td>\n",
       "      <td>1</td>\n",
       "      <td>1</td>\n",
       "    </tr>\n",
       "    <tr>\n",
       "      <th>5389</th>\n",
       "      <td>19</td>\n",
       "      <td>2</td>\n",
       "      <td>66.0</td>\n",
       "      <td>2.0</td>\n",
       "      <td>1.0</td>\n",
       "      <td>1</td>\n",
       "      <td>2</td>\n",
       "      <td>1</td>\n",
       "    </tr>\n",
       "    <tr>\n",
       "      <th>12695</th>\n",
       "      <td>13</td>\n",
       "      <td>1</td>\n",
       "      <td>44.0</td>\n",
       "      <td>2.0</td>\n",
       "      <td>2.0</td>\n",
       "      <td>6</td>\n",
       "      <td>1</td>\n",
       "      <td>3</td>\n",
       "    </tr>\n",
       "    <tr>\n",
       "      <th>...</th>\n",
       "      <td>...</td>\n",
       "      <td>...</td>\n",
       "      <td>...</td>\n",
       "      <td>...</td>\n",
       "      <td>...</td>\n",
       "      <td>...</td>\n",
       "      <td>...</td>\n",
       "      <td>...</td>\n",
       "    </tr>\n",
       "    <tr>\n",
       "      <th>9236</th>\n",
       "      <td>9</td>\n",
       "      <td>1</td>\n",
       "      <td>98.0</td>\n",
       "      <td>2.0</td>\n",
       "      <td>2.0</td>\n",
       "      <td>1</td>\n",
       "      <td>1</td>\n",
       "      <td>2</td>\n",
       "    </tr>\n",
       "    <tr>\n",
       "      <th>6032</th>\n",
       "      <td>14</td>\n",
       "      <td>2</td>\n",
       "      <td>109.0</td>\n",
       "      <td>3.0</td>\n",
       "      <td>2.0</td>\n",
       "      <td>1</td>\n",
       "      <td>3</td>\n",
       "      <td>1</td>\n",
       "    </tr>\n",
       "    <tr>\n",
       "      <th>12377</th>\n",
       "      <td>13</td>\n",
       "      <td>2</td>\n",
       "      <td>63.0</td>\n",
       "      <td>2.0</td>\n",
       "      <td>2.0</td>\n",
       "      <td>1</td>\n",
       "      <td>2</td>\n",
       "      <td>2</td>\n",
       "    </tr>\n",
       "    <tr>\n",
       "      <th>10846</th>\n",
       "      <td>18</td>\n",
       "      <td>1</td>\n",
       "      <td>75.0</td>\n",
       "      <td>2.0</td>\n",
       "      <td>2.0</td>\n",
       "      <td>1</td>\n",
       "      <td>3</td>\n",
       "      <td>2</td>\n",
       "    </tr>\n",
       "    <tr>\n",
       "      <th>1220</th>\n",
       "      <td>9</td>\n",
       "      <td>1</td>\n",
       "      <td>86.0</td>\n",
       "      <td>3.0</td>\n",
       "      <td>2.0</td>\n",
       "      <td>1</td>\n",
       "      <td>3</td>\n",
       "      <td>3</td>\n",
       "    </tr>\n",
       "  </tbody>\n",
       "</table>\n",
       "<p>2581 rows × 8 columns</p>\n",
       "</div>"
      ],
      "text/plain": [
       "       Quan  TinhTrangBDS  DienTich  Phongngu  PhongTam  Loai  GiayTo  \\\n",
       "11623    16             1      63.0       2.0       2.0     1       2   \n",
       "11600    12             2      60.0       2.0       1.0     1       1   \n",
       "5242     16             2      56.0       2.0       2.0     1       1   \n",
       "5389     19             2      66.0       2.0       1.0     1       2   \n",
       "12695    13             1      44.0       2.0       2.0     6       1   \n",
       "...     ...           ...       ...       ...       ...   ...     ...   \n",
       "9236      9             1      98.0       2.0       2.0     1       1   \n",
       "6032     14             2     109.0       3.0       2.0     1       3   \n",
       "12377    13             2      63.0       2.0       2.0     1       2   \n",
       "10846    18             1      75.0       2.0       2.0     1       3   \n",
       "1220      9             1      86.0       3.0       2.0     1       3   \n",
       "\n",
       "       TinhTrangNoiThat  \n",
       "11623                 4  \n",
       "11600                 2  \n",
       "5242                  1  \n",
       "5389                  1  \n",
       "12695                 3  \n",
       "...                 ...  \n",
       "9236                  2  \n",
       "6032                  1  \n",
       "12377                 2  \n",
       "10846                 2  \n",
       "1220                  3  \n",
       "\n",
       "[2581 rows x 8 columns]"
      ]
     },
     "execution_count": 47,
     "metadata": {},
     "output_type": "execute_result"
    }
   ],
   "source": [
    "X_test"
   ]
  },
  {
   "cell_type": "code",
   "execution_count": 32,
   "id": "524761a4",
   "metadata": {},
   "outputs": [
    {
     "data": {
      "text/plain": [
       "array([ 90332.79 ,  67579.23 ,  52502.203, ...,  64375.45 ,  96902.59 ,\n",
       "       130015.35 ], dtype=float32)"
      ]
     },
     "execution_count": 32,
     "metadata": {},
     "output_type": "execute_result"
    }
   ],
   "source": [
    "reg.predict(X_test)"
   ]
  },
  {
   "cell_type": "code",
   "execution_count": 33,
   "id": "8c17bbe6",
   "metadata": {},
   "outputs": [
    {
     "data": {
      "text/plain": [
       "11623     55000.0\n",
       "11600     50000.0\n",
       "5242      75000.0\n",
       "5389      97917.0\n",
       "12695     45833.0\n",
       "           ...   \n",
       "9236      56667.0\n",
       "6032     162500.0\n",
       "12377     68333.0\n",
       "10846    135417.0\n",
       "1220     145833.0\n",
       "Name: USD, Length: 2581, dtype: float64"
      ]
     },
     "execution_count": 33,
     "metadata": {},
     "output_type": "execute_result"
    }
   ],
   "source": [
    "Y_test"
   ]
  },
  {
   "cell_type": "code",
   "execution_count": 34,
   "id": "39720ec2",
   "metadata": {},
   "outputs": [],
   "source": [
    "Y_pre = reg.predict(X_test)"
   ]
  },
  {
   "cell_type": "code",
   "execution_count": 35,
   "id": "afc294ab",
   "metadata": {},
   "outputs": [
    {
     "data": {
      "text/plain": [
       "array([ 90332.79 ,  67579.23 ,  52502.203, ...,  64375.45 ,  96902.59 ,\n",
       "       130015.35 ], dtype=float32)"
      ]
     },
     "execution_count": 35,
     "metadata": {},
     "output_type": "execute_result"
    }
   ],
   "source": [
    "Y_pre"
   ]
  },
  {
   "cell_type": "code",
   "execution_count": 36,
   "id": "e7199cdc",
   "metadata": {},
   "outputs": [],
   "source": [
    "perc = np.abs((Y_pre - Y_test)/Y_test)\n",
    "perc = perc.values*100"
   ]
  },
  {
   "cell_type": "code",
   "execution_count": 37,
   "id": "3ebfbdce",
   "metadata": {},
   "outputs": [
    {
     "data": {
      "text/plain": [
       "array([[9.03327891e+04, 6.75792266e+04, 5.25022031e+04, ...,\n",
       "        6.43754492e+04, 9.69025938e+04, 1.30015352e+05],\n",
       "       [5.50000000e+04, 5.00000000e+04, 7.50000000e+04, ...,\n",
       "        6.83330000e+04, 1.35417000e+05, 1.45833000e+05],\n",
       "       [6.42414347e+01, 3.51584531e+01, 2.99970625e+01, ...,\n",
       "        5.79156598e+00, 2.84413377e+01, 1.08464123e+01]])"
      ]
     },
     "execution_count": 37,
     "metadata": {},
     "output_type": "execute_result"
    }
   ],
   "source": [
    "np.array([Y_pre, Y_test, perc])"
   ]
  },
  {
   "cell_type": "code",
   "execution_count": 38,
   "id": "446ab09f",
   "metadata": {},
   "outputs": [],
   "source": [
    "data = {'Gia du doan':Y_pre,\n",
    "        'Gia thuc':Y_test,\n",
    "       '% sai lech': perc}\n",
    "A = pd.DataFrame(data)"
   ]
  },
  {
   "cell_type": "code",
   "execution_count": 39,
   "id": "2effba0e",
   "metadata": {},
   "outputs": [
    {
     "data": {
      "text/html": [
       "<div>\n",
       "<style scoped>\n",
       "    .dataframe tbody tr th:only-of-type {\n",
       "        vertical-align: middle;\n",
       "    }\n",
       "\n",
       "    .dataframe tbody tr th {\n",
       "        vertical-align: top;\n",
       "    }\n",
       "\n",
       "    .dataframe thead th {\n",
       "        text-align: right;\n",
       "    }\n",
       "</style>\n",
       "<table border=\"1\" class=\"dataframe\">\n",
       "  <thead>\n",
       "    <tr style=\"text-align: right;\">\n",
       "      <th></th>\n",
       "      <th>Gia du doan</th>\n",
       "      <th>Gia thuc</th>\n",
       "      <th>% sai lech</th>\n",
       "    </tr>\n",
       "  </thead>\n",
       "  <tbody>\n",
       "    <tr>\n",
       "      <th>7016</th>\n",
       "      <td>108381.132812</td>\n",
       "      <td>108333.0</td>\n",
       "      <td>0.044430</td>\n",
       "    </tr>\n",
       "    <tr>\n",
       "      <th>12792</th>\n",
       "      <td>87448.632812</td>\n",
       "      <td>87500.0</td>\n",
       "      <td>0.058705</td>\n",
       "    </tr>\n",
       "    <tr>\n",
       "      <th>4770</th>\n",
       "      <td>100063.804688</td>\n",
       "      <td>100000.0</td>\n",
       "      <td>0.063805</td>\n",
       "    </tr>\n",
       "    <tr>\n",
       "      <th>6032</th>\n",
       "      <td>162364.515625</td>\n",
       "      <td>162500.0</td>\n",
       "      <td>0.083375</td>\n",
       "    </tr>\n",
       "    <tr>\n",
       "      <th>10363</th>\n",
       "      <td>83260.492188</td>\n",
       "      <td>83333.0</td>\n",
       "      <td>0.087010</td>\n",
       "    </tr>\n",
       "    <tr>\n",
       "      <th>...</th>\n",
       "      <td>...</td>\n",
       "      <td>...</td>\n",
       "      <td>...</td>\n",
       "    </tr>\n",
       "    <tr>\n",
       "      <th>509</th>\n",
       "      <td>97393.195312</td>\n",
       "      <td>106.0</td>\n",
       "      <td>91780.372936</td>\n",
       "    </tr>\n",
       "    <tr>\n",
       "      <th>10238</th>\n",
       "      <td>101344.617188</td>\n",
       "      <td>110.0</td>\n",
       "      <td>92031.470170</td>\n",
       "    </tr>\n",
       "    <tr>\n",
       "      <th>6254</th>\n",
       "      <td>98683.546875</td>\n",
       "      <td>104.0</td>\n",
       "      <td>94788.025841</td>\n",
       "    </tr>\n",
       "    <tr>\n",
       "      <th>3777</th>\n",
       "      <td>130759.679688</td>\n",
       "      <td>115.0</td>\n",
       "      <td>113604.069293</td>\n",
       "    </tr>\n",
       "    <tr>\n",
       "      <th>5716</th>\n",
       "      <td>223646.406250</td>\n",
       "      <td>146.0</td>\n",
       "      <td>153082.470034</td>\n",
       "    </tr>\n",
       "  </tbody>\n",
       "</table>\n",
       "<p>2581 rows × 3 columns</p>\n",
       "</div>"
      ],
      "text/plain": [
       "         Gia du doan  Gia thuc     % sai lech\n",
       "7016   108381.132812  108333.0       0.044430\n",
       "12792   87448.632812   87500.0       0.058705\n",
       "4770   100063.804688  100000.0       0.063805\n",
       "6032   162364.515625  162500.0       0.083375\n",
       "10363   83260.492188   83333.0       0.087010\n",
       "...              ...       ...            ...\n",
       "509     97393.195312     106.0   91780.372936\n",
       "10238  101344.617188     110.0   92031.470170\n",
       "6254    98683.546875     104.0   94788.025841\n",
       "3777   130759.679688     115.0  113604.069293\n",
       "5716   223646.406250     146.0  153082.470034\n",
       "\n",
       "[2581 rows x 3 columns]"
      ]
     },
     "execution_count": 39,
     "metadata": {},
     "output_type": "execute_result"
    }
   ],
   "source": [
    "\n",
    "B = A.sort_values(by=['% sai lech'])\n",
    "B"
   ]
  },
  {
   "cell_type": "code",
   "execution_count": 40,
   "id": "4b0ca3d2",
   "metadata": {},
   "outputs": [
    {
     "data": {
      "text/plain": [
       "count      2581.000000\n",
       "mean        798.329312\n",
       "std        7669.430486\n",
       "min           0.044430\n",
       "25%           2.278948\n",
       "50%           9.319538\n",
       "75%          25.577718\n",
       "max      153082.470034\n",
       "Name: % sai lech, dtype: float64"
      ]
     },
     "execution_count": 40,
     "metadata": {},
     "output_type": "execute_result"
    }
   ],
   "source": [
    "B['% sai lech'].describe()"
   ]
  },
  {
   "cell_type": "code",
   "execution_count": 54,
   "id": "3b1d0180",
   "metadata": {},
   "outputs": [
    {
     "data": {
      "text/plain": [
       "2581"
      ]
     },
     "execution_count": 54,
     "metadata": {},
     "output_type": "execute_result"
    }
   ],
   "source": [
    "len(Y_pre)"
   ]
  },
  {
   "cell_type": "code",
   "execution_count": 63,
   "id": "0d210fc5",
   "metadata": {},
   "outputs": [
    {
     "name": "stderr",
     "output_type": "stream",
     "text": [
      "C:\\Users\\Administrator\\anaconda3\\lib\\site-packages\\sklearn\\linear_model\\_coordinate_descent.py:530: ConvergenceWarning: Objective did not converge. You might want to increase the number of iterations. Duality gap: 267507452923815.9, tolerance: 57734555160.91866\n",
      "  model = cd_fast.enet_coordinate_descent(\n",
      "C:\\Users\\Administrator\\anaconda3\\lib\\site-packages\\sklearn\\linear_model\\_coordinate_descent.py:530: ConvergenceWarning: Objective did not converge. You might want to increase the number of iterations. Duality gap: 267434415067254.12, tolerance: 58063912567.40875\n",
      "  model = cd_fast.enet_coordinate_descent(\n",
      "C:\\Users\\Administrator\\anaconda3\\lib\\site-packages\\sklearn\\linear_model\\_coordinate_descent.py:530: ConvergenceWarning: Objective did not converge. You might want to increase the number of iterations. Duality gap: 262901644392632.9, tolerance: 56861498921.28823\n",
      "  model = cd_fast.enet_coordinate_descent(\n",
      "C:\\Users\\Administrator\\anaconda3\\lib\\site-packages\\sklearn\\linear_model\\_coordinate_descent.py:530: ConvergenceWarning: Objective did not converge. You might want to increase the number of iterations. Duality gap: 24220863548396.152, tolerance: 9057500156.119062\n",
      "  model = cd_fast.enet_coordinate_descent(\n",
      "C:\\Users\\Administrator\\anaconda3\\lib\\site-packages\\sklearn\\linear_model\\_coordinate_descent.py:530: ConvergenceWarning: Objective did not converge. You might want to increase the number of iterations. Duality gap: 266198443368382.1, tolerance: 57438182837.80985\n",
      "  model = cd_fast.enet_coordinate_descent(\n",
      "C:\\Users\\Administrator\\anaconda3\\lib\\site-packages\\sklearn\\linear_model\\_coordinate_descent.py:530: ConvergenceWarning: Objective did not converge. You might want to increase the number of iterations. Duality gap: 211083029575720.5, tolerance: 57734555160.91866\n",
      "  model = cd_fast.enet_coordinate_descent(\n",
      "C:\\Users\\Administrator\\anaconda3\\lib\\site-packages\\sklearn\\linear_model\\_coordinate_descent.py:530: ConvergenceWarning: Objective did not converge. You might want to increase the number of iterations. Duality gap: 194418601300620.62, tolerance: 58063912567.40875\n",
      "  model = cd_fast.enet_coordinate_descent(\n",
      "C:\\Users\\Administrator\\anaconda3\\lib\\site-packages\\sklearn\\linear_model\\_coordinate_descent.py:530: ConvergenceWarning: Objective did not converge. You might want to increase the number of iterations. Duality gap: 19285926949407.812, tolerance: 56861498921.28823\n",
      "  model = cd_fast.enet_coordinate_descent(\n"
     ]
    },
    {
     "data": {
      "text/plain": [
       "GridSearchCV(cv=5, estimator=Lasso(),\n",
       "             param_grid={'alpha': [1e-15, 1e-10, 1e-08, 0.001, 0.01, 1, 5, 10,\n",
       "                                   20, 30, 35, 40, 45, 50, 55, 100]},\n",
       "             scoring='neg_mean_squared_error')"
      ]
     },
     "execution_count": 63,
     "metadata": {},
     "output_type": "execute_result"
    }
   ],
   "source": [
    "from sklearn.linear_model import Lasso\n",
    "from sklearn.model_selection import GridSearchCV\n",
    "lasso=Lasso()\n",
    "parameters={'alpha':[1e-15,1e-10,1e-8,1e-3,1e-2,1,5,10,20,30,35,40,45,50,55,100]}\n",
    "lasso_regressor=GridSearchCV(lasso,parameters,scoring='neg_mean_squared_error',cv=5)\n",
    "lasso_regressor.fit(X,Y)\n"
   ]
  },
  {
   "cell_type": "code",
   "execution_count": 66,
   "id": "f6ac378f",
   "metadata": {},
   "outputs": [],
   "source": [
    "Y_pre1 = lasso_regressor.predict(X_test)"
   ]
  },
  {
   "cell_type": "code",
   "execution_count": 67,
   "id": "9737d360",
   "metadata": {},
   "outputs": [
    {
     "data": {
      "text/plain": [
       "array([125554.91068915,  90389.40872244,  48454.3818091 , ...,\n",
       "        90137.45188619, 119601.01831732, 191451.94834734])"
      ]
     },
     "execution_count": 67,
     "metadata": {},
     "output_type": "execute_result"
    }
   ],
   "source": [
    "Y_pre1"
   ]
  },
  {
   "cell_type": "code",
   "execution_count": 68,
   "id": "d933fda0",
   "metadata": {},
   "outputs": [],
   "source": [
    "perc1 = np.abs((Y_pre1 - Y_test)/Y_test)\n",
    "perc1 = perc1.values*100"
   ]
  },
  {
   "cell_type": "code",
   "execution_count": 69,
   "id": "60a49cb0",
   "metadata": {},
   "outputs": [
    {
     "data": {
      "text/plain": [
       "array([[1.25554911e+05, 9.03894087e+04, 4.84543818e+04, ...,\n",
       "        9.01374519e+04, 1.19601018e+05, 1.91451948e+05],\n",
       "       [5.50000000e+04, 5.00000000e+04, 7.50000000e+04, ...,\n",
       "        6.83330000e+04, 1.35417000e+05, 1.45833000e+05],\n",
       "       [1.28281656e+02, 8.07788174e+01, 3.53941576e+01, ...,\n",
       "        3.19091096e+01, 1.16794654e+01, 3.12816361e+01]])"
      ]
     },
     "execution_count": 69,
     "metadata": {},
     "output_type": "execute_result"
    }
   ],
   "source": [
    "np.array([Y_pre1, Y_test, perc1])"
   ]
  },
  {
   "cell_type": "code",
   "execution_count": 70,
   "id": "6dec2167",
   "metadata": {},
   "outputs": [],
   "source": [
    "data = {'Gia du doan':Y_pre1,\n",
    "        'Gia thuc':Y_test,\n",
    "       '% sai lech': perc1}\n",
    "A = pd.DataFrame(data)"
   ]
  },
  {
   "cell_type": "code",
   "execution_count": 71,
   "id": "4e2d011f",
   "metadata": {},
   "outputs": [
    {
     "data": {
      "text/html": [
       "<div>\n",
       "<style scoped>\n",
       "    .dataframe tbody tr th:only-of-type {\n",
       "        vertical-align: middle;\n",
       "    }\n",
       "\n",
       "    .dataframe tbody tr th {\n",
       "        vertical-align: top;\n",
       "    }\n",
       "\n",
       "    .dataframe thead th {\n",
       "        text-align: right;\n",
       "    }\n",
       "</style>\n",
       "<table border=\"1\" class=\"dataframe\">\n",
       "  <thead>\n",
       "    <tr style=\"text-align: right;\">\n",
       "      <th></th>\n",
       "      <th>Gia du doan</th>\n",
       "      <th>Gia thuc</th>\n",
       "      <th>% sai lech</th>\n",
       "    </tr>\n",
       "  </thead>\n",
       "  <tbody>\n",
       "    <tr>\n",
       "      <th>11966</th>\n",
       "      <td>91743.459210</td>\n",
       "      <td>91667.0</td>\n",
       "      <td>0.083410</td>\n",
       "    </tr>\n",
       "    <tr>\n",
       "      <th>11800</th>\n",
       "      <td>62434.573655</td>\n",
       "      <td>62500.0</td>\n",
       "      <td>0.104682</td>\n",
       "    </tr>\n",
       "    <tr>\n",
       "      <th>134</th>\n",
       "      <td>75086.394451</td>\n",
       "      <td>75000.0</td>\n",
       "      <td>0.115193</td>\n",
       "    </tr>\n",
       "    <tr>\n",
       "      <th>9059</th>\n",
       "      <td>65911.898876</td>\n",
       "      <td>65833.0</td>\n",
       "      <td>0.119847</td>\n",
       "    </tr>\n",
       "    <tr>\n",
       "      <th>9583</th>\n",
       "      <td>158134.305875</td>\n",
       "      <td>158333.0</td>\n",
       "      <td>0.125491</td>\n",
       "    </tr>\n",
       "    <tr>\n",
       "      <th>...</th>\n",
       "      <td>...</td>\n",
       "      <td>...</td>\n",
       "      <td>...</td>\n",
       "    </tr>\n",
       "    <tr>\n",
       "      <th>6623</th>\n",
       "      <td>104137.075679</td>\n",
       "      <td>85.0</td>\n",
       "      <td>122414.206682</td>\n",
       "    </tr>\n",
       "    <tr>\n",
       "      <th>10011</th>\n",
       "      <td>101833.440632</td>\n",
       "      <td>83.0</td>\n",
       "      <td>122590.892328</td>\n",
       "    </tr>\n",
       "    <tr>\n",
       "      <th>509</th>\n",
       "      <td>134728.883374</td>\n",
       "      <td>106.0</td>\n",
       "      <td>127002.720164</td>\n",
       "    </tr>\n",
       "    <tr>\n",
       "      <th>3777</th>\n",
       "      <td>153026.736951</td>\n",
       "      <td>115.0</td>\n",
       "      <td>132966.727784</td>\n",
       "    </tr>\n",
       "    <tr>\n",
       "      <th>6254</th>\n",
       "      <td>159663.410384</td>\n",
       "      <td>104.0</td>\n",
       "      <td>153422.509984</td>\n",
       "    </tr>\n",
       "  </tbody>\n",
       "</table>\n",
       "<p>2581 rows × 3 columns</p>\n",
       "</div>"
      ],
      "text/plain": [
       "         Gia du doan  Gia thuc     % sai lech\n",
       "11966   91743.459210   91667.0       0.083410\n",
       "11800   62434.573655   62500.0       0.104682\n",
       "134     75086.394451   75000.0       0.115193\n",
       "9059    65911.898876   65833.0       0.119847\n",
       "9583   158134.305875  158333.0       0.125491\n",
       "...              ...       ...            ...\n",
       "6623   104137.075679      85.0  122414.206682\n",
       "10011  101833.440632      83.0  122590.892328\n",
       "509    134728.883374     106.0  127002.720164\n",
       "3777   153026.736951     115.0  132966.727784\n",
       "6254   159663.410384     104.0  153422.509984\n",
       "\n",
       "[2581 rows x 3 columns]"
      ]
     },
     "execution_count": 71,
     "metadata": {},
     "output_type": "execute_result"
    }
   ],
   "source": [
    "\n",
    "B = A.sort_values(by=['% sai lech'])\n",
    "B"
   ]
  },
  {
   "cell_type": "code",
   "execution_count": 72,
   "id": "21829635",
   "metadata": {},
   "outputs": [
    {
     "data": {
      "text/plain": [
       "count      2581.000000\n",
       "mean        885.745424\n",
       "std        8776.406788\n",
       "min           0.083410\n",
       "25%          10.725005\n",
       "50%          27.220312\n",
       "75%          46.493806\n",
       "max      153422.509984\n",
       "Name: % sai lech, dtype: float64"
      ]
     },
     "execution_count": 72,
     "metadata": {},
     "output_type": "execute_result"
    }
   ],
   "source": [
    "B['% sai lech'].describe()"
   ]
  },
  {
   "cell_type": "code",
   "execution_count": 73,
   "id": "f2e4fb79",
   "metadata": {},
   "outputs": [
    {
     "data": {
      "text/plain": [
       "array([106242.34544029])"
      ]
     },
     "execution_count": 73,
     "metadata": {},
     "output_type": "execute_result"
    }
   ],
   "source": [
    "lasso_regressor.predict(([[12, 1, 65, 2, 2, 1, 2, 2]]))"
   ]
  },
  {
   "cell_type": "code",
   "execution_count": 74,
   "id": "f502f6a6",
   "metadata": {},
   "outputs": [
    {
     "data": {
      "text/plain": [
       "array([72341.77672423])"
      ]
     },
     "execution_count": 74,
     "metadata": {},
     "output_type": "execute_result"
    }
   ],
   "source": [
    "lasso_regressor.predict([[9,1,50,2,1,1,1,1]])"
   ]
  },
  {
   "cell_type": "code",
   "execution_count": 8,
   "id": "1822ad09",
   "metadata": {},
   "outputs": [],
   "source": [
    "from sklearn.tree import DecisionTreeRegressor\n",
    "from sklearn import metrics\n",
    "from sklearn.ensemble import RandomForestRegressor\n",
    "from sklearn.model_selection import cross_val_score"
   ]
  },
  {
   "cell_type": "code",
   "execution_count": 9,
   "id": "4ca81f2d",
   "metadata": {},
   "outputs": [
    {
     "data": {
      "text/plain": [
       "RandomForestRegressor(max_depth=13, random_state=0)"
      ]
     },
     "execution_count": 9,
     "metadata": {},
     "output_type": "execute_result"
    }
   ],
   "source": [
    "random = RandomForestRegressor(max_depth=13, random_state=0)\n",
    "random.fit(X,Y)"
   ]
  },
  {
   "cell_type": "code",
   "execution_count": 10,
   "id": "d5da8df3",
   "metadata": {},
   "outputs": [],
   "source": [
    "Y_pre2 = random.predict(X_test)"
   ]
  },
  {
   "cell_type": "code",
   "execution_count": 11,
   "id": "daf21b83",
   "metadata": {},
   "outputs": [],
   "source": [
    "perc2 = np.abs((Y_pre2 - Y_test)/Y_test)\n",
    "perc2 = perc2.values*100"
   ]
  },
  {
   "cell_type": "code",
   "execution_count": 12,
   "id": "7965f310",
   "metadata": {},
   "outputs": [
    {
     "data": {
      "text/plain": [
       "array([[7.69625855e+04, 6.21186271e+04, 5.54953670e+04, ...,\n",
       "        6.68733415e+04, 9.67739525e+04, 1.14652560e+05],\n",
       "       [5.50000000e+04, 5.00000000e+04, 7.50000000e+04, ...,\n",
       "        6.83330000e+04, 1.35417000e+05, 1.45833000e+05],\n",
       "       [3.99319736e+01, 2.42372542e+01, 2.60061773e+01, ...,\n",
       "        2.13609604e+00, 2.85363340e+01, 2.13809220e+01]])"
      ]
     },
     "execution_count": 12,
     "metadata": {},
     "output_type": "execute_result"
    }
   ],
   "source": [
    "np.array([Y_pre2, Y_test, perc2])"
   ]
  },
  {
   "cell_type": "code",
   "execution_count": 13,
   "id": "1f429534",
   "metadata": {},
   "outputs": [],
   "source": [
    "data = {'Gia du doan':Y_pre2,\n",
    "        'Gia thuc':Y_test,\n",
    "       '% sai lech': perc2}\n",
    "A = pd.DataFrame(data)"
   ]
  },
  {
   "cell_type": "code",
   "execution_count": 14,
   "id": "4344a881",
   "metadata": {},
   "outputs": [
    {
     "data": {
      "text/html": [
       "<div>\n",
       "<style scoped>\n",
       "    .dataframe tbody tr th:only-of-type {\n",
       "        vertical-align: middle;\n",
       "    }\n",
       "\n",
       "    .dataframe tbody tr th {\n",
       "        vertical-align: top;\n",
       "    }\n",
       "\n",
       "    .dataframe thead th {\n",
       "        text-align: right;\n",
       "    }\n",
       "</style>\n",
       "<table border=\"1\" class=\"dataframe\">\n",
       "  <thead>\n",
       "    <tr style=\"text-align: right;\">\n",
       "      <th></th>\n",
       "      <th>Gia du doan</th>\n",
       "      <th>Gia thuc</th>\n",
       "      <th>% sai lech</th>\n",
       "    </tr>\n",
       "  </thead>\n",
       "  <tbody>\n",
       "    <tr>\n",
       "      <th>2865</th>\n",
       "      <td>516667.000000</td>\n",
       "      <td>516667.0</td>\n",
       "      <td>0.000000</td>\n",
       "    </tr>\n",
       "    <tr>\n",
       "      <th>1118</th>\n",
       "      <td>516667.000000</td>\n",
       "      <td>516667.0</td>\n",
       "      <td>0.000000</td>\n",
       "    </tr>\n",
       "    <tr>\n",
       "      <th>9517</th>\n",
       "      <td>516667.000000</td>\n",
       "      <td>516667.0</td>\n",
       "      <td>0.000000</td>\n",
       "    </tr>\n",
       "    <tr>\n",
       "      <th>8304</th>\n",
       "      <td>516667.000000</td>\n",
       "      <td>516667.0</td>\n",
       "      <td>0.000000</td>\n",
       "    </tr>\n",
       "    <tr>\n",
       "      <th>4311</th>\n",
       "      <td>516667.000000</td>\n",
       "      <td>516667.0</td>\n",
       "      <td>0.000000</td>\n",
       "    </tr>\n",
       "    <tr>\n",
       "      <th>...</th>\n",
       "      <td>...</td>\n",
       "      <td>...</td>\n",
       "      <td>...</td>\n",
       "    </tr>\n",
       "    <tr>\n",
       "      <th>10238</th>\n",
       "      <td>108086.956397</td>\n",
       "      <td>110.0</td>\n",
       "      <td>98160.869451</td>\n",
       "    </tr>\n",
       "    <tr>\n",
       "      <th>2158</th>\n",
       "      <td>97695.636049</td>\n",
       "      <td>98.0</td>\n",
       "      <td>99589.424540</td>\n",
       "    </tr>\n",
       "    <tr>\n",
       "      <th>3777</th>\n",
       "      <td>119551.742549</td>\n",
       "      <td>115.0</td>\n",
       "      <td>103858.036999</td>\n",
       "    </tr>\n",
       "    <tr>\n",
       "      <th>6254</th>\n",
       "      <td>109456.296582</td>\n",
       "      <td>104.0</td>\n",
       "      <td>105146.439021</td>\n",
       "    </tr>\n",
       "    <tr>\n",
       "      <th>5716</th>\n",
       "      <td>314718.212662</td>\n",
       "      <td>146.0</td>\n",
       "      <td>215460.419632</td>\n",
       "    </tr>\n",
       "  </tbody>\n",
       "</table>\n",
       "<p>2581 rows × 3 columns</p>\n",
       "</div>"
      ],
      "text/plain": [
       "         Gia du doan  Gia thuc     % sai lech\n",
       "2865   516667.000000  516667.0       0.000000\n",
       "1118   516667.000000  516667.0       0.000000\n",
       "9517   516667.000000  516667.0       0.000000\n",
       "8304   516667.000000  516667.0       0.000000\n",
       "4311   516667.000000  516667.0       0.000000\n",
       "...              ...       ...            ...\n",
       "10238  108086.956397     110.0   98160.869451\n",
       "2158    97695.636049      98.0   99589.424540\n",
       "3777   119551.742549     115.0  103858.036999\n",
       "6254   109456.296582     104.0  105146.439021\n",
       "5716   314718.212662     146.0  215460.419632\n",
       "\n",
       "[2581 rows x 3 columns]"
      ]
     },
     "execution_count": 14,
     "metadata": {},
     "output_type": "execute_result"
    }
   ],
   "source": [
    "B = A.sort_values(by=['% sai lech'])\n",
    "B"
   ]
  },
  {
   "cell_type": "code",
   "execution_count": 15,
   "id": "3fb781fe",
   "metadata": {},
   "outputs": [
    {
     "data": {
      "text/plain": [
       "count      2581.000000\n",
       "mean        799.317589\n",
       "std        8066.646935\n",
       "min           0.000000\n",
       "25%           2.425265\n",
       "50%           9.044805\n",
       "75%          24.806848\n",
       "max      215460.419632\n",
       "Name: % sai lech, dtype: float64"
      ]
     },
     "execution_count": 15,
     "metadata": {},
     "output_type": "execute_result"
    }
   ],
   "source": [
    "B['% sai lech'].describe()"
   ]
  },
  {
   "cell_type": "code",
   "execution_count": 16,
   "id": "87235394",
   "metadata": {},
   "outputs": [
    {
     "data": {
      "text/plain": [
       "array([68801.43865956])"
      ]
     },
     "execution_count": 16,
     "metadata": {},
     "output_type": "execute_result"
    }
   ],
   "source": [
    "random.predict([[9,1,50,2,1,1,1,1]])"
   ]
  },
  {
   "cell_type": "code",
   "execution_count": 17,
   "id": "76a24701",
   "metadata": {},
   "outputs": [
    {
     "data": {
      "text/plain": [
       "array([69445.81675459])"
      ]
     },
     "execution_count": 17,
     "metadata": {},
     "output_type": "execute_result"
    }
   ],
   "source": [
    "random.predict([[13,1,63,2,2,1,2,1]])"
   ]
  },
  {
   "cell_type": "code",
   "execution_count": 19,
   "id": "f51e5cce",
   "metadata": {},
   "outputs": [],
   "source": [
    "import pickle\n",
    "pickle.dump(random, open('C:\\\\Users\\\\Administrator\\\\Desktop\\\\Khoaluan\\\\web\\\\model.pkl','wb'))"
   ]
  },
  {
   "cell_type": "code",
   "execution_count": null,
   "id": "838ffc07",
   "metadata": {},
   "outputs": [],
   "source": []
  }
 ],
 "metadata": {
  "kernelspec": {
   "display_name": "Python 3",
   "language": "python",
   "name": "python3"
  },
  "language_info": {
   "codemirror_mode": {
    "name": "ipython",
    "version": 3
   },
   "file_extension": ".py",
   "mimetype": "text/x-python",
   "name": "python",
   "nbconvert_exporter": "python",
   "pygments_lexer": "ipython3",
   "version": "3.8.8"
  }
 },
 "nbformat": 4,
 "nbformat_minor": 5
}
