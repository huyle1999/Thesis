{
 "cells": [
  {
   "cell_type": "code",
   "execution_count": 1,
   "id": "35b74eb6",
   "metadata": {},
   "outputs": [],
   "source": [
    "import numpy as np\n",
    "import matplotlib.pyplot as plt\n",
    "import pandas as pd\n",
    "from sklearn.preprocessing import StandardScaler\n",
    "from sklearn.linear_model import LinearRegression\n",
    "from sklearn.model_selection import train_test_split\n",
    "from sklearn.tree import DecisionTreeRegressor\n",
    "from sklearn import metrics\n",
    "from sklearn.ensemble import RandomForestRegressor\n",
    "from sklearn.model_selection import cross_val_score"
   ]
  },
  {
   "cell_type": "code",
   "execution_count": 2,
   "id": "913c4b5a",
   "metadata": {},
   "outputs": [],
   "source": [
    "df_dropped_2=pd.read_csv(\"C:\\\\Users\\\\Administrator\\\\Desktop\\\\Khoaluan\\\\web\\\\united4.csv\")"
   ]
  },
  {
   "cell_type": "code",
   "execution_count": 3,
   "id": "16371e93",
   "metadata": {},
   "outputs": [
    {
     "data": {
      "text/html": [
       "<div>\n",
       "<style scoped>\n",
       "    .dataframe tbody tr th:only-of-type {\n",
       "        vertical-align: middle;\n",
       "    }\n",
       "\n",
       "    .dataframe tbody tr th {\n",
       "        vertical-align: top;\n",
       "    }\n",
       "\n",
       "    .dataframe thead th {\n",
       "        text-align: right;\n",
       "    }\n",
       "</style>\n",
       "<table border=\"1\" class=\"dataframe\">\n",
       "  <thead>\n",
       "    <tr style=\"text-align: right;\">\n",
       "      <th></th>\n",
       "      <th>Quan</th>\n",
       "      <th>TinhTrangBDS</th>\n",
       "      <th>DienTich</th>\n",
       "      <th>Phongngu</th>\n",
       "      <th>PhongTam</th>\n",
       "      <th>Loai</th>\n",
       "      <th>GiayTo</th>\n",
       "      <th>TinhTrangNoiThat</th>\n",
       "    </tr>\n",
       "  </thead>\n",
       "  <tbody>\n",
       "    <tr>\n",
       "      <th>0</th>\n",
       "      <td>9</td>\n",
       "      <td>1</td>\n",
       "      <td>50.00</td>\n",
       "      <td>2.0</td>\n",
       "      <td>1.0</td>\n",
       "      <td>1</td>\n",
       "      <td>1</td>\n",
       "      <td>1</td>\n",
       "    </tr>\n",
       "    <tr>\n",
       "      <th>1</th>\n",
       "      <td>13</td>\n",
       "      <td>1</td>\n",
       "      <td>63.00</td>\n",
       "      <td>2.0</td>\n",
       "      <td>2.0</td>\n",
       "      <td>1</td>\n",
       "      <td>2</td>\n",
       "      <td>1</td>\n",
       "    </tr>\n",
       "    <tr>\n",
       "      <th>2</th>\n",
       "      <td>14</td>\n",
       "      <td>1</td>\n",
       "      <td>57.72</td>\n",
       "      <td>2.0</td>\n",
       "      <td>2.0</td>\n",
       "      <td>1</td>\n",
       "      <td>1</td>\n",
       "      <td>1</td>\n",
       "    </tr>\n",
       "    <tr>\n",
       "      <th>3</th>\n",
       "      <td>12</td>\n",
       "      <td>1</td>\n",
       "      <td>65.00</td>\n",
       "      <td>2.0</td>\n",
       "      <td>2.0</td>\n",
       "      <td>1</td>\n",
       "      <td>2</td>\n",
       "      <td>2</td>\n",
       "    </tr>\n",
       "    <tr>\n",
       "      <th>4</th>\n",
       "      <td>9</td>\n",
       "      <td>1</td>\n",
       "      <td>69.00</td>\n",
       "      <td>2.0</td>\n",
       "      <td>2.0</td>\n",
       "      <td>1</td>\n",
       "      <td>2</td>\n",
       "      <td>3</td>\n",
       "    </tr>\n",
       "    <tr>\n",
       "      <th>...</th>\n",
       "      <td>...</td>\n",
       "      <td>...</td>\n",
       "      <td>...</td>\n",
       "      <td>...</td>\n",
       "      <td>...</td>\n",
       "      <td>...</td>\n",
       "      <td>...</td>\n",
       "      <td>...</td>\n",
       "    </tr>\n",
       "    <tr>\n",
       "      <th>12898</th>\n",
       "      <td>8</td>\n",
       "      <td>1</td>\n",
       "      <td>68.00</td>\n",
       "      <td>2.0</td>\n",
       "      <td>2.0</td>\n",
       "      <td>1</td>\n",
       "      <td>2</td>\n",
       "      <td>3</td>\n",
       "    </tr>\n",
       "    <tr>\n",
       "      <th>12899</th>\n",
       "      <td>9</td>\n",
       "      <td>1</td>\n",
       "      <td>53.00</td>\n",
       "      <td>2.0</td>\n",
       "      <td>1.0</td>\n",
       "      <td>1</td>\n",
       "      <td>2</td>\n",
       "      <td>1</td>\n",
       "    </tr>\n",
       "    <tr>\n",
       "      <th>12900</th>\n",
       "      <td>16</td>\n",
       "      <td>1</td>\n",
       "      <td>76.00</td>\n",
       "      <td>2.0</td>\n",
       "      <td>1.0</td>\n",
       "      <td>1</td>\n",
       "      <td>1</td>\n",
       "      <td>3</td>\n",
       "    </tr>\n",
       "    <tr>\n",
       "      <th>12901</th>\n",
       "      <td>15</td>\n",
       "      <td>1</td>\n",
       "      <td>82.00</td>\n",
       "      <td>2.0</td>\n",
       "      <td>2.0</td>\n",
       "      <td>1</td>\n",
       "      <td>1</td>\n",
       "      <td>2</td>\n",
       "    </tr>\n",
       "    <tr>\n",
       "      <th>12902</th>\n",
       "      <td>6</td>\n",
       "      <td>2</td>\n",
       "      <td>60.00</td>\n",
       "      <td>2.0</td>\n",
       "      <td>1.0</td>\n",
       "      <td>1</td>\n",
       "      <td>2</td>\n",
       "      <td>3</td>\n",
       "    </tr>\n",
       "  </tbody>\n",
       "</table>\n",
       "<p>12903 rows × 8 columns</p>\n",
       "</div>"
      ],
      "text/plain": [
       "       Quan  TinhTrangBDS  DienTich  Phongngu  PhongTam  Loai  GiayTo  \\\n",
       "0         9             1     50.00       2.0       1.0     1       1   \n",
       "1        13             1     63.00       2.0       2.0     1       2   \n",
       "2        14             1     57.72       2.0       2.0     1       1   \n",
       "3        12             1     65.00       2.0       2.0     1       2   \n",
       "4         9             1     69.00       2.0       2.0     1       2   \n",
       "...     ...           ...       ...       ...       ...   ...     ...   \n",
       "12898     8             1     68.00       2.0       2.0     1       2   \n",
       "12899     9             1     53.00       2.0       1.0     1       2   \n",
       "12900    16             1     76.00       2.0       1.0     1       1   \n",
       "12901    15             1     82.00       2.0       2.0     1       1   \n",
       "12902     6             2     60.00       2.0       1.0     1       2   \n",
       "\n",
       "       TinhTrangNoiThat  \n",
       "0                     1  \n",
       "1                     1  \n",
       "2                     1  \n",
       "3                     2  \n",
       "4                     3  \n",
       "...                 ...  \n",
       "12898                 3  \n",
       "12899                 1  \n",
       "12900                 3  \n",
       "12901                 2  \n",
       "12902                 3  \n",
       "\n",
       "[12903 rows x 8 columns]"
      ]
     },
     "execution_count": 3,
     "metadata": {},
     "output_type": "execute_result"
    }
   ],
   "source": [
    "df_x = df_dropped_2.iloc[:, 1:9]\n",
    "df_x"
   ]
  },
  {
   "cell_type": "code",
   "execution_count": 4,
   "id": "13d0a330",
   "metadata": {},
   "outputs": [
    {
     "data": {
      "text/plain": [
       "0         62500.0\n",
       "1         68750.0\n",
       "2         72917.0\n",
       "3         73333.0\n",
       "4         46667.0\n",
       "           ...   \n",
       "12898    102083.0\n",
       "12899     87500.0\n",
       "12900     64583.0\n",
       "12901    110417.0\n",
       "12902     79167.0\n",
       "Name: USD, Length: 12903, dtype: float64"
      ]
     },
     "execution_count": 4,
     "metadata": {},
     "output_type": "execute_result"
    }
   ],
   "source": [
    "df_y = df_dropped_2.iloc[:, 10]\n",
    "\n",
    "df_y"
   ]
  },
  {
   "cell_type": "code",
   "execution_count": 5,
   "id": "5b60f849",
   "metadata": {},
   "outputs": [],
   "source": [
    "X, X_test, Y, Y_test = train_test_split(df_x,df_y, test_size = 0.2, random_state = 0)"
   ]
  },
  {
   "cell_type": "code",
   "execution_count": 6,
   "id": "8078fb54",
   "metadata": {},
   "outputs": [
    {
     "data": {
      "text/plain": [
       "RandomForestRegressor(max_depth=13, random_state=0)"
      ]
     },
     "execution_count": 6,
     "metadata": {},
     "output_type": "execute_result"
    }
   ],
   "source": [
    "random = RandomForestRegressor(max_depth=13, random_state=0)\n",
    "random.fit(df_x,df_y)"
   ]
  },
  {
   "cell_type": "code",
   "execution_count": 7,
   "id": "64a72118",
   "metadata": {},
   "outputs": [],
   "source": [
    "Y_pre = random.predict(df_x)"
   ]
  },
  {
   "cell_type": "code",
   "execution_count": 8,
   "id": "b9a581c9",
   "metadata": {},
   "outputs": [],
   "source": [
    "perc = np.abs((Y_pre - df_y)/df_y)\n",
    "perc = perc.values*100"
   ]
  },
  {
   "cell_type": "code",
   "execution_count": 9,
   "id": "6e1db191",
   "metadata": {},
   "outputs": [
    {
     "data": {
      "text/plain": [
       "array([[6.95029303e+04, 6.90394987e+04, 6.85014845e+04, ...,\n",
       "        9.43930419e+04, 1.53085977e+05, 8.31092110e+04],\n",
       "       [6.25000000e+04, 6.87500000e+04, 7.29170000e+04, ...,\n",
       "        6.45830000e+04, 1.10417000e+05, 7.91670000e+04],\n",
       "       [1.12046884e+01, 4.21089017e-01, 6.05553639e+00, ...,\n",
       "        4.61577225e+01, 3.86434855e+01, 4.97961397e+00]])"
      ]
     },
     "execution_count": 9,
     "metadata": {},
     "output_type": "execute_result"
    }
   ],
   "source": [
    "np.array([Y_pre, df_y, perc])"
   ]
  },
  {
   "cell_type": "code",
   "execution_count": 11,
   "id": "bca1cb70",
   "metadata": {},
   "outputs": [],
   "source": [
    "data = {'Gia du doan':Y_pre,\n",
    "        'Gia thuc':df_y,\n",
    "       '% sai lech': perc}\n",
    "A = pd.DataFrame(data)"
   ]
  },
  {
   "cell_type": "code",
   "execution_count": 12,
   "id": "03f3bfd5",
   "metadata": {},
   "outputs": [
    {
     "data": {
      "text/html": [
       "<div>\n",
       "<style scoped>\n",
       "    .dataframe tbody tr th:only-of-type {\n",
       "        vertical-align: middle;\n",
       "    }\n",
       "\n",
       "    .dataframe tbody tr th {\n",
       "        vertical-align: top;\n",
       "    }\n",
       "\n",
       "    .dataframe thead th {\n",
       "        text-align: right;\n",
       "    }\n",
       "</style>\n",
       "<table border=\"1\" class=\"dataframe\">\n",
       "  <thead>\n",
       "    <tr style=\"text-align: right;\">\n",
       "      <th></th>\n",
       "      <th>Gia du doan</th>\n",
       "      <th>Gia thuc</th>\n",
       "      <th>% sai lech</th>\n",
       "    </tr>\n",
       "  </thead>\n",
       "  <tbody>\n",
       "    <tr>\n",
       "      <th>11954</th>\n",
       "      <td>516667.000000</td>\n",
       "      <td>516667.0</td>\n",
       "      <td>0.000000e+00</td>\n",
       "    </tr>\n",
       "    <tr>\n",
       "      <th>9067</th>\n",
       "      <td>516667.000000</td>\n",
       "      <td>516667.0</td>\n",
       "      <td>0.000000e+00</td>\n",
       "    </tr>\n",
       "    <tr>\n",
       "      <th>10842</th>\n",
       "      <td>516667.000000</td>\n",
       "      <td>516667.0</td>\n",
       "      <td>0.000000e+00</td>\n",
       "    </tr>\n",
       "    <tr>\n",
       "      <th>6364</th>\n",
       "      <td>516667.000000</td>\n",
       "      <td>516667.0</td>\n",
       "      <td>0.000000e+00</td>\n",
       "    </tr>\n",
       "    <tr>\n",
       "      <th>4077</th>\n",
       "      <td>516667.000000</td>\n",
       "      <td>516667.0</td>\n",
       "      <td>0.000000e+00</td>\n",
       "    </tr>\n",
       "    <tr>\n",
       "      <th>...</th>\n",
       "      <td>...</td>\n",
       "      <td>...</td>\n",
       "      <td>...</td>\n",
       "    </tr>\n",
       "    <tr>\n",
       "      <th>6703</th>\n",
       "      <td>96292.221382</td>\n",
       "      <td>88.0</td>\n",
       "      <td>1.093230e+05</td>\n",
       "    </tr>\n",
       "    <tr>\n",
       "      <th>5716</th>\n",
       "      <td>176127.492007</td>\n",
       "      <td>146.0</td>\n",
       "      <td>1.205353e+05</td>\n",
       "    </tr>\n",
       "    <tr>\n",
       "      <th>6209</th>\n",
       "      <td>159911.278554</td>\n",
       "      <td>127.0</td>\n",
       "      <td>1.258144e+05</td>\n",
       "    </tr>\n",
       "    <tr>\n",
       "      <th>12776</th>\n",
       "      <td>113076.490883</td>\n",
       "      <td>88.0</td>\n",
       "      <td>1.283960e+05</td>\n",
       "    </tr>\n",
       "    <tr>\n",
       "      <th>11985</th>\n",
       "      <td>550060.653667</td>\n",
       "      <td>42.0</td>\n",
       "      <td>1.309568e+06</td>\n",
       "    </tr>\n",
       "  </tbody>\n",
       "</table>\n",
       "<p>12903 rows × 3 columns</p>\n",
       "</div>"
      ],
      "text/plain": [
       "         Gia du doan  Gia thuc    % sai lech\n",
       "11954  516667.000000  516667.0  0.000000e+00\n",
       "9067   516667.000000  516667.0  0.000000e+00\n",
       "10842  516667.000000  516667.0  0.000000e+00\n",
       "6364   516667.000000  516667.0  0.000000e+00\n",
       "4077   516667.000000  516667.0  0.000000e+00\n",
       "...              ...       ...           ...\n",
       "6703    96292.221382      88.0  1.093230e+05\n",
       "5716   176127.492007     146.0  1.205353e+05\n",
       "6209   159911.278554     127.0  1.258144e+05\n",
       "12776  113076.490883      88.0  1.283960e+05\n",
       "11985  550060.653667      42.0  1.309568e+06\n",
       "\n",
       "[12903 rows x 3 columns]"
      ]
     },
     "execution_count": 12,
     "metadata": {},
     "output_type": "execute_result"
    }
   ],
   "source": [
    "B = A.sort_values(by=['% sai lech'])\n",
    "B"
   ]
  },
  {
   "cell_type": "code",
   "execution_count": 13,
   "id": "3abd4e65",
   "metadata": {},
   "outputs": [
    {
     "data": {
      "text/plain": [
       "count    1.290300e+04\n",
       "mean     6.959635e+02\n",
       "std      1.309917e+04\n",
       "min      0.000000e+00\n",
       "25%      2.394560e+00\n",
       "50%      9.106420e+00\n",
       "75%      2.142501e+01\n",
       "max      1.309568e+06\n",
       "Name: % sai lech, dtype: float64"
      ]
     },
     "execution_count": 13,
     "metadata": {},
     "output_type": "execute_result"
    }
   ],
   "source": [
    "B['% sai lech'].describe()"
   ]
  },
  {
   "cell_type": "code",
   "execution_count": null,
   "id": "bafb8129",
   "metadata": {},
   "outputs": [],
   "source": []
  }
 ],
 "metadata": {
  "kernelspec": {
   "display_name": "Python 3",
   "language": "python",
   "name": "python3"
  },
  "language_info": {
   "codemirror_mode": {
    "name": "ipython",
    "version": 3
   },
   "file_extension": ".py",
   "mimetype": "text/x-python",
   "name": "python",
   "nbconvert_exporter": "python",
   "pygments_lexer": "ipython3",
   "version": "3.8.8"
  }
 },
 "nbformat": 4,
 "nbformat_minor": 5
}
